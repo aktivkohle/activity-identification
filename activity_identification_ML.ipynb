{
 "cells": [
  {
   "cell_type": "markdown",
   "metadata": {},
   "source": [
    "## Initialize notebook"
   ]
  },
  {
   "cell_type": "code",
   "execution_count": 135,
   "metadata": {
    "collapsed": false
   },
   "outputs": [],
   "source": [
    "import pandas as pd\n",
    "import numpy as np\n",
    "from time import time\n",
    "from operator import itemgetter\n",
    "from scipy.stats import randint, truncnorm, uniform\n",
    "\n",
    "from sklearn import metrics, cross_validation\n",
    "from sklearn.ensemble import RandomForestClassifier, ExtraTreesClassifier, GradientBoostingClassifier\n",
    "from xgboost.sklearn import XGBClassifier\n",
    "from sklearn.grid_search import GridSearchCV, RandomizedSearchCV\n",
    "from sklearn.preprocessing import LabelEncoder\n",
    "from ensemble import EnsembleClassifier\n",
    "\n",
    "import matplotlib.pyplot as plt\n",
    "import matplotlib\n",
    "import seaborn\n",
    "%matplotlib inline\n",
    "matplotlib.rcParams['savefig.dpi'] = 1.7 * matplotlib.rcParams['savefig.dpi']"
   ]
  },
  {
   "cell_type": "markdown",
   "metadata": {},
   "source": [
    "## Load training data"
   ]
  },
  {
   "cell_type": "code",
   "execution_count": 73,
   "metadata": {
    "collapsed": false
   },
   "outputs": [
    {
     "name": "stdout",
     "output_type": "stream",
     "text": [
      "X_train shape: 108 x 34\n",
      "Y_train length: 108\n"
     ]
    }
   ],
   "source": [
    "# load X training data\n",
    "X_train = np.array(pd.read_csv('X_train.csv', header=None))\n",
    "# convert any NaNs to 0\n",
    "X_train = np.nan_to_num(X_train)\n",
    "\n",
    "# load Y training data\n",
    "Y_train = np.array(pd.read_csv('Y_train.csv', header=None))\n",
    "# re-shape array\n",
    "Y_train = np.reshape(Y_train, (np.shape(Y_train)[0],))\n",
    "# encode labels\n",
    "le = LabelEncoder()\n",
    "Y_train = le.fit_transform(Y_train)\n",
    "\n",
    "print 'X_train shape: %i x %i' % (np.shape(X_train)[0], np.shape(X_train)[1])\n",
    "print 'Y_train length: %i' % len(Y_train)"
   ]
  },
  {
   "cell_type": "markdown",
   "metadata": {},
   "source": [
    "## Grid search"
   ]
  },
  {
   "cell_type": "code",
   "execution_count": 68,
   "metadata": {
    "collapsed": true
   },
   "outputs": [],
   "source": [
    "# Utility function to report best scores\n",
    "def grid_search_report(grid_scores, n_top=3):\n",
    "  top_scores = sorted(grid_scores, key=itemgetter(1), reverse=True)[:n_top]\n",
    "  for i, score in enumerate(top_scores):\n",
    "    print('Model with rank: {0}'.format(i + 1))\n",
    "    print('Mean validation score: {0:.3f} (std: {1:.3f})'.format(\n",
    "          score.mean_validation_score,\n",
    "          np.std(score.cv_validation_scores)))\n",
    "    print('Parameters: {0}'.format(score.parameters))\n",
    "    print('')"
   ]
  },
  {
   "cell_type": "code",
   "execution_count": 111,
   "metadata": {
    "collapsed": false,
    "scrolled": false
   },
   "outputs": [
    {
     "name": "stdout",
     "output_type": "stream",
     "text": [
      "ExtraTreesClassifier\n",
      "RandomizedSearchCV took 175.66 seconds for 100 candidates parameter settings.\n",
      "Model with rank: 1\n",
      "Mean validation score: 0.845 (std: 0.062)\n",
      "Parameters: {'min_samples_split': 6, 'n_estimators': 922, 'criterion': 'gini', 'min_samples_leaf': 1}\n",
      "\n",
      "Model with rank: 2\n",
      "Mean validation score: 0.845 (std: 0.046)\n",
      "Parameters: {'min_samples_split': 2, 'n_estimators': 227, 'criterion': 'gini', 'min_samples_leaf': 1}\n",
      "\n",
      "Model with rank: 3\n",
      "Mean validation score: 0.845 (std: 0.046)\n",
      "Parameters: {'min_samples_split': 5, 'n_estimators': 473, 'criterion': 'gini', 'min_samples_leaf': 1}\n",
      "\n"
     ]
    }
   ],
   "source": [
    "n_iter_search = 100\n",
    "\n",
    "print 'ExtraTreesClassifier'\n",
    "cv = cross_validation.ShuffleSplit(len(Y_train), n_iter=5, test_size=0.2, random_state=42)\n",
    "clf = ExtraTreesClassifier(n_jobs=4, random_state=42)\n",
    "# specify parameters and distributions to sample from\n",
    "param_dist = {'n_estimators': randint(25, 1000),\n",
    "              'min_samples_split': randint(2, 10),\n",
    "              'min_samples_leaf': randint(1, 10),\n",
    "              'criterion': ['entropy', 'gini']}\n",
    "\n",
    "# run randomized search\n",
    "random_search_xt = RandomizedSearchCV(clf, param_distributions=param_dist,\n",
    "                                      n_iter=n_iter_search, scoring='accuracy',\n",
    "                                      n_jobs=4, cv=cv)\n",
    "\n",
    "start = time()\n",
    "random_search_xt.fit(X_train, Y_train)\n",
    "print('RandomizedSearchCV took %.2f seconds for %d candidates'\n",
    "      ' parameter settings.' % ((time() - start), n_iter_search))\n",
    "grid_search_report(random_search_xt.grid_scores_)"
   ]
  },
  {
   "cell_type": "code",
   "execution_count": 114,
   "metadata": {
    "collapsed": false
   },
   "outputs": [
    {
     "name": "stdout",
     "output_type": "stream",
     "text": [
      "GradientBoostingClassifier\n",
      "RandomizedSearchCV took 558.68 seconds for 100 candidates parameter settings.\n",
      "Model with rank: 1\n",
      "Mean validation score: 0.773 (std: 0.029)\n",
      "Parameters: {'learning_rate': 0.06549212224025243, 'min_samples_leaf': 8, 'n_estimators': 160, 'subsample': 0.40020170113237086, 'min_samples_split': 2, 'max_depth': 4}\n",
      "\n",
      "Model with rank: 2\n",
      "Mean validation score: 0.773 (std: 0.057)\n",
      "Parameters: {'learning_rate': 0.07630549024060841, 'min_samples_leaf': 9, 'n_estimators': 453, 'subsample': 0.9291185487719408, 'min_samples_split': 6, 'max_depth': 3}\n",
      "\n",
      "Model with rank: 3\n",
      "Mean validation score: 0.727 (std: 0.041)\n",
      "Parameters: {'learning_rate': 0.017056566901770563, 'min_samples_leaf': 6, 'n_estimators': 482, 'subsample': 0.7841131242280222, 'min_samples_split': 8, 'max_depth': 3}\n",
      "\n"
     ]
    }
   ],
   "source": [
    "n_iter_search = 100\n",
    "\n",
    "print 'GradientBoostingClassifier'\n",
    "cv = cross_validation.ShuffleSplit(len(Y_train), n_iter=5, test_size=0.2, random_state=42)\n",
    "clf = GradientBoostingClassifier(random_state=42)\n",
    "# specify parameters and distributions to sample from\n",
    "param_dist = {'n_estimators': randint(25, 1000),\n",
    "              'max_depth': randint(3, 11),\n",
    "              'learning_rate': uniform(0.001, 0.3),\n",
    "              'subsample': uniform(0.001, 0.99),\n",
    "              'min_samples_split': randint(2, 10),\n",
    "              'min_samples_leaf': randint(1, 10)}\n",
    "\n",
    "# run randomized search\n",
    "random_search_gb = RandomizedSearchCV(clf, param_distributions=param_dist,\n",
    "                                      n_iter=n_iter_search, scoring='accuracy',\n",
    "                                      n_jobs=4, cv=cv)\n",
    "\n",
    "start = time()\n",
    "random_search_gb.fit(X_train, Y_train)\n",
    "print('RandomizedSearchCV took %.2f seconds for %d candidates'\n",
    "      ' parameter settings.' % ((time() - start), n_iter_search))\n",
    "grid_search_report(random_search_xgb.grid_scores_)"
   ]
  },
  {
   "cell_type": "markdown",
   "metadata": {},
   "source": [
    "## Cross-validate (best single models)"
   ]
  },
  {
   "cell_type": "code",
   "execution_count": 95,
   "metadata": {
    "collapsed": true
   },
   "outputs": [],
   "source": [
    "def compute_error(clf, X, y, n_iter=20):\n",
    "  cv = cross_validation.ShuffleSplit(len(y), n_iter=n_iter, test_size=0.2, random_state=42)\n",
    "  return cross_validation.cross_val_score(clf, X, y, cv=cv, scoring='accuracy').mean()"
   ]
  },
  {
   "cell_type": "code",
   "execution_count": 120,
   "metadata": {
    "collapsed": false
   },
   "outputs": [
    {
     "name": "stdout",
     "output_type": "stream",
     "text": [
      "Best ExtraTreesClassifier single model score:\n",
      "0.845454545455\n"
     ]
    }
   ],
   "source": [
    "top_scores = sorted(random_search_xt.grid_scores_, key=itemgetter(1), reverse=True)\n",
    "clf = ExtraTreesClassifier(n_jobs=4, random_state=42, **top_scores[0].parameters)\n",
    "\n",
    "print 'Best ExtraTreesClassifier single model score:'\n",
    "print compute_error(clf, X_train, Y_train, n_iter=5)"
   ]
  },
  {
   "cell_type": "code",
   "execution_count": 121,
   "metadata": {
    "collapsed": false
   },
   "outputs": [
    {
     "name": "stdout",
     "output_type": "stream",
     "text": [
      "Best GradientBoostinfClassifier single model score:\n",
      "0.8\n"
     ]
    }
   ],
   "source": [
    "top_scores = sorted(random_search_gb.grid_scores_, key=itemgetter(1), reverse=True)\n",
    "clf = GradientBoostingClassifier(random_state=42, **top_scores[0].parameters)\n",
    "\n",
    "print 'Best GradientBoostinfClassifier single model score:'\n",
    "print compute_error(clf, X_train, Y_train, n_iter=5)"
   ]
  },
  {
   "cell_type": "markdown",
   "metadata": {},
   "source": [
    "## Create ensemble model and CV"
   ]
  },
  {
   "cell_type": "code",
   "execution_count": 125,
   "metadata": {
    "collapsed": true
   },
   "outputs": [],
   "source": [
    "top_scores = sorted(random_search_xt.grid_scores_, key=itemgetter(1), reverse=True)\n",
    "clfs_xt = [ExtraTreesClassifier(n_jobs=4, random_state=42, **top_scores[ii].parameters) \n",
    "           for ii in range(3)]\n",
    "\n",
    "# top_scores = sorted(random_search_gb.grid_scores_, key=itemgetter(1), reverse=True)\n",
    "# clfs_gb = [GradientBoostingClassifier(random_state=42, **top_scores[ii].parameters) \n",
    "#            for ii in range(3)]\n",
    "\n",
    "# clfs = clfs_xt + clfs_gb\n",
    "clfs = clfs_xt"
   ]
  },
  {
   "cell_type": "code",
   "execution_count": 126,
   "metadata": {
    "collapsed": false
   },
   "outputs": [
    {
     "name": "stdout",
     "output_type": "stream",
     "text": [
      "Ensemble classifier score:\n"
     ]
    },
    {
     "data": {
      "text/plain": [
       "0.84545454545454546"
      ]
     },
     "execution_count": 126,
     "metadata": {},
     "output_type": "execute_result"
    }
   ],
   "source": [
    "eclf = EnsembleClassifier(clfs=clfs, voting='hard')\n",
    "\n",
    "print 'Ensemble classifier score:'\n",
    "compute_error(eclf, X_train, Y_train, n_iter=5)"
   ]
  },
  {
   "cell_type": "markdown",
   "metadata": {},
   "source": [
    "## Feature importance"
   ]
  },
  {
   "cell_type": "code",
   "execution_count": 130,
   "metadata": {
    "collapsed": false
   },
   "outputs": [],
   "source": [
    "top_scores = sorted(random_search_xt.grid_scores_, key=itemgetter(1), reverse=True)\n",
    "clf_xt = ExtraTreesClassifier(n_jobs=4, random_state=42, **top_scores[0].parameters)\n",
    "\n",
    "top_scores = sorted(random_search_gb.grid_scores_, key=itemgetter(1), reverse=True)\n",
    "clf_gb = GradientBoostingClassifier(random_state=42, **top_scores[0].parameters)"
   ]
  },
  {
   "cell_type": "code",
   "execution_count": 136,
   "metadata": {
    "collapsed": false
   },
   "outputs": [
    {
     "data": {
      "text/plain": [
       "<matplotlib.text.Text at 0x10d642190>"
      ]
     },
     "execution_count": 136,
     "metadata": {},
     "output_type": "execute_result"
    },
    {
     "data": {
      "image/png": "[encoded data removed]",
      "text/plain": [
       "<matplotlib.figure.Figure at 0x10d6292d0>"
      ]
     },
     "metadata": {},
     "output_type": "display_data"
    }
   ],
   "source": [
    "pd.DataFrame([\n",
    "    clf_xt.fit(X_train, Y_train).feature_importances_,\n",
    "    clf_gb.fit(X_train, Y_train).feature_importances_\n",
    "], index=['Gradient Boosting', 'Extra Trees']).T.plot(kind='bar').legend(loc='upper right')\n",
    "plt.xlabel('feature number')\n",
    "plt.ylabel('feature importance')"
   ]
  },
  {
   "cell_type": "code",
   "execution_count": null,
   "metadata": {
    "collapsed": true
   },
   "outputs": [],
   "source": []
  }
 ],
 "metadata": {
  "kernelspec": {
   "display_name": "Python 2",
   "language": "python",
   "name": "python2"
  },
  "language_info": {
   "codemirror_mode": {
    "name": "ipython",
    "version": 2
   },
   "file_extension": ".py",
   "mimetype": "text/x-python",
   "name": "python",
   "nbconvert_exporter": "python",
   "pygments_lexer": "ipython2",
   "version": "2.7.10"
  }
 },
 "nbformat": 4,
 "nbformat_minor": 0
}
