{
 "cells": [
  {
   "cell_type": "markdown",
   "metadata": {},
   "source": [
    "## Initialize notebook"
   ]
  },
  {
   "cell_type": "code",
   "execution_count": 63,
   "metadata": {
    "collapsed": false
   },
   "outputs": [],
   "source": [
    "import pandas as pd\n",
    "import numpy as np\n",
    "from time import time\n",
    "from operator import itemgetter\n",
    "from scipy.stats import randint, truncnorm, uniform\n",
    "\n",
    "from sklearn import metrics, cross_validation\n",
    "from sklearn.ensemble import RandomForestClassifier\n",
    "from sklearn.ensemble import GradientBoostingClassifier\n",
    "from sklearn.ensemble import ExtraTreesClassifier\n",
    "from xgboost.sklearn import XGBClassifier\n",
    "from sklearn.grid_search import RandomizedSearchCV\n",
    "from sklearn.preprocessing import LabelEncoder\n",
    "from ensemble import EnsembleClassifier\n",
    "\n",
    "import matplotlib.pyplot as plt\n",
    "import matplotlib\n",
    "import seaborn as sns\n",
    "%matplotlib inline\n",
    "matplotlib.rcParams['savefig.dpi'] = 1.7 * matplotlib.rcParams['savefig.dpi']"
   ]
  },
  {
   "cell_type": "markdown",
   "metadata": {},
   "source": [
    "## Load training data"
   ]
  },
  {
   "cell_type": "code",
   "execution_count": 39,
   "metadata": {
    "collapsed": false
   },
   "outputs": [
    {
     "name": "stdout",
     "output_type": "stream",
     "text": [
      "X_train shape: 108 x 40\n",
      "Y_train length: 108\n"
     ]
    }
   ],
   "source": [
    "# load X training data\n",
    "X_train = np.array(pd.read_csv('X_train.csv', header=None))\n",
    "# convert any NaNs to 0\n",
    "X_train = np.nan_to_num(X_train)\n",
    "\n",
    "# load Y training data\n",
    "Y_train = np.array(pd.read_csv('Y_train.csv', header=None))\n",
    "# re-shape array\n",
    "Y_train = np.reshape(Y_train, (np.shape(Y_train)[0],))\n",
    "# encode labels\n",
    "le = LabelEncoder()\n",
    "Y_train = le.fit_transform(Y_train)\n",
    "\n",
    "print 'X_train shape: %i x %i' % (np.shape(X_train)[0], np.shape(X_train)[1])\n",
    "print 'Y_train length: %i' % len(Y_train)"
   ]
  },
  {
   "cell_type": "markdown",
   "metadata": {},
   "source": [
    "## Plot label frequency"
   ]
  },
  {
   "cell_type": "code",
   "execution_count": 61,
   "metadata": {
    "collapsed": false
   },
   "outputs": [
    {
     "data": {
      "image/png": "[encoded data removed]",
      "text/plain": [
       "<matplotlib.figure.Figure at 0x1125bfa10>"
      ]
     },
     "metadata": {},
     "output_type": "display_data"
    }
   ],
   "source": [
    "num_act = []\n",
    "for n in np.unique(Y_train):\n",
    "  num_act.append(len(np.where(Y_train == n)[0]))\n",
    "  \n",
    "plt.bar(np.unique(Y_train), num_act)\n",
    "plt.xlabel('label number')\n",
    "plt.ylabel('# of observations')\n",
    "\n",
    "plt.savefig('label_frequency.eps', format='eps', dpi=1000)\n"
   ]
  },
  {
   "cell_type": "markdown",
   "metadata": {},
   "source": [
    "## Randomized grid search (all features)"
   ]
  },
  {
   "cell_type": "code",
   "execution_count": 7,
   "metadata": {
    "collapsed": true
   },
   "outputs": [],
   "source": [
    "# Utility function to report best scores\n",
    "def grid_search_report(grid_scores, n_top=3):\n",
    "  top_scores = sorted(grid_scores, key=itemgetter(1), reverse=True)[:n_top]\n",
    "  for i, score in enumerate(top_scores):\n",
    "    print('Model with rank: {0}'.format(i + 1))\n",
    "    print('Mean validation score: {0:.3f} (std: {1:.3f})'.format(\n",
    "          score.mean_validation_score,\n",
    "          np.std(score.cv_validation_scores)))\n",
    "    print('Parameters: {0}'.format(score.parameters))\n",
    "    print('')\n",
    "    "
   ]
  },
  {
   "cell_type": "code",
   "execution_count": 59,
   "metadata": {
    "collapsed": true
   },
   "outputs": [],
   "source": [
    "# params for grid search\n",
    "n_iter_search = 100\n",
    "cv = cross_validation.ShuffleSplit(len(Y_train), n_iter=5, test_size=0.2, random_state=42)"
   ]
  },
  {
   "cell_type": "code",
   "execution_count": 46,
   "metadata": {
    "collapsed": false
   },
   "outputs": [
    {
     "name": "stdout",
     "output_type": "stream",
     "text": [
      "GradientBoostingClassifier\n",
      "RandomizedSearchCV took 704.26 seconds for 100 candidates parameter settings.\n",
      "Model with rank: 1\n",
      "Mean validation score: 0.736 (std: 0.034)\n",
      "Parameters: {'learning_rate': 0.2228868874053661, 'min_samples_leaf': 8, 'n_estimators': 125, 'subsample': 0.4587928206235938, 'min_samples_split': 7, 'max_depth': 5}\n",
      "\n",
      "Model with rank: 2\n",
      "Mean validation score: 0.736 (std: 0.053)\n",
      "Parameters: {'learning_rate': 0.08416556288967567, 'min_samples_leaf': 5, 'n_estimators': 696, 'subsample': 0.439058957758806, 'min_samples_split': 7, 'max_depth': 6}\n",
      "\n",
      "Model with rank: 3\n",
      "Mean validation score: 0.736 (std: 0.060)\n",
      "Parameters: {'learning_rate': 0.1385342377341742, 'min_samples_leaf': 8, 'n_estimators': 342, 'subsample': 0.26128249064288955, 'min_samples_split': 6, 'max_depth': 7}\n",
      "\n"
     ]
    }
   ],
   "source": [
    "print 'GradientBoostingClassifier'\n",
    "\n",
    "clf = GradientBoostingClassifier(random_state=42)\n",
    "# specify parameters and distributions to sample from\n",
    "param_dist = {'n_estimators': randint(25, 1000),\n",
    "              'max_depth': randint(3, 11),\n",
    "              'learning_rate': uniform(0.001, 0.3),\n",
    "              'subsample': uniform(0.001, 0.99),\n",
    "              'min_samples_split': randint(2, 10),\n",
    "              'min_samples_leaf': randint(1, 10)}\n",
    "\n",
    "# run randomized search\n",
    "random_search_gb = RandomizedSearchCV(clf, param_distributions=param_dist,\n",
    "                                      n_iter=n_iter_search, scoring='accuracy',\n",
    "                                      n_jobs=4, cv=cv)\n",
    "\n",
    "start = time()\n",
    "random_search_gb.fit(X_train, Y_train)\n",
    "print('RandomizedSearchCV took %.2f seconds for %d candidates'\n",
    "      ' parameter settings.' % ((time() - start), n_iter_search))\n",
    "grid_search_report(random_search_gb.grid_scores_)\n"
   ]
  },
  {
   "cell_type": "code",
   "execution_count": 47,
   "metadata": {
    "collapsed": false
   },
   "outputs": [
    {
     "name": "stdout",
     "output_type": "stream",
     "text": [
      "RandomForestClassifier\n",
      "RandomizedSearchCV took 240.39 seconds for 100 candidates parameter settings.\n",
      "Model with rank: 1\n",
      "Mean validation score: 0.764 (std: 0.045)\n",
      "Parameters: {'max_features': 'sqrt', 'min_samples_split': 5, 'min_samples_leaf': 2, 'criterion': 'entropy', 'n_estimators': 992}\n",
      "\n",
      "Model with rank: 2\n",
      "Mean validation score: 0.755 (std: 0.068)\n",
      "Parameters: {'max_features': 'sqrt', 'min_samples_split': 2, 'min_samples_leaf': 1, 'criterion': 'gini', 'n_estimators': 205}\n",
      "\n",
      "Model with rank: 3\n",
      "Mean validation score: 0.755 (std: 0.062)\n",
      "Parameters: {'max_features': 'log2', 'min_samples_split': 4, 'min_samples_leaf': 3, 'criterion': 'entropy', 'n_estimators': 909}\n",
      "\n"
     ]
    }
   ],
   "source": [
    "print 'RandomForestClassifier'\n",
    "\n",
    "clf = RandomForestClassifier(n_jobs=-1, random_state=42)#, class_weight='balanced')\n",
    "# specify parameters and distributions to sample from\n",
    "param_dist = {'n_estimators': randint(25, 1000),\n",
    "              'min_samples_split': randint(2, 10),\n",
    "              'min_samples_leaf': randint(1, 10),\n",
    "              'criterion': ['entropy', 'gini'],\n",
    "              'max_features': ['sqrt', 'log2']}\n",
    "\n",
    "# run randomized search\n",
    "random_search_rf = RandomizedSearchCV(clf, param_distributions=param_dist,\n",
    "                                      n_iter=n_iter_search, scoring='accuracy',\n",
    "                                      n_jobs=4, cv=cv)\n",
    "\n",
    "start = time()\n",
    "random_search_rf.fit(X_train, Y_train)\n",
    "print('RandomizedSearchCV took %.2f seconds for %d candidates'\n",
    "      ' parameter settings.' % ((time() - start), n_iter_search))\n",
    "grid_search_report(random_search_rf.grid_scores_)"
   ]
  },
  {
   "cell_type": "code",
   "execution_count": 40,
   "metadata": {
    "collapsed": false
   },
   "outputs": [
    {
     "name": "stdout",
     "output_type": "stream",
     "text": [
      "XGBClassifier\n",
      "RandomizedSearchCV took 61.65 seconds for 100 candidates parameter settings.\n",
      "Model with rank: 1\n",
      "Mean validation score: 0.791 (std: 0.022)\n",
      "Parameters: {'n_estimators': 387, 'subsample': 0.7455139571476126, 'learning_rate': 0.048889499332886256, 'colsample_bytree': 0.258025987064968, 'max_depth': 4}\n",
      "\n",
      "Model with rank: 2\n",
      "Mean validation score: 0.782 (std: 0.034)\n",
      "Parameters: {'n_estimators': 412, 'subsample': 0.7496377567343411, 'learning_rate': 0.09683144630440564, 'colsample_bytree': 0.5872470052075502, 'max_depth': 10}\n",
      "\n",
      "Model with rank: 3\n",
      "Mean validation score: 0.773 (std: 0.029)\n",
      "Parameters: {'n_estimators': 100, 'subsample': 0.8232322311110469, 'learning_rate': 0.11246506490751534, 'colsample_bytree': 0.28148050181074397, 'max_depth': 10}\n",
      "\n"
     ]
    }
   ],
   "source": [
    "print 'XGBClassifier'\n",
    "\n",
    "clf = XGBClassifier(seed=42, nthread=-1, objective='multi:softprob')\n",
    "# specify parameters and distributions to sample from\n",
    "param_dist = {'n_estimators': randint(25, 1000),\n",
    "              'max_depth': randint(3, 11),\n",
    "              'learning_rate': uniform(0.001, 0.3),\n",
    "              'subsample': uniform(0.001, 0.99),\n",
    "              'colsample_bytree': uniform(0.2, 1)}\n",
    "\n",
    "# run randomized search\n",
    "random_search_xgb = RandomizedSearchCV(clf, param_distributions=param_dist,\n",
    "                                      n_iter=n_iter_search, scoring='accuracy',\n",
    "                                      n_jobs=4, cv=cv)\n",
    "\n",
    "start = time()\n",
    "random_search_xgb.fit(X_train, Y_train)\n",
    "print('RandomizedSearchCV took %.2f seconds for %d candidates'\n",
    "      ' parameter settings.' % ((time() - start), n_iter_search))\n",
    "grid_search_report(random_search_xgb.grid_scores_)\n"
   ]
  },
  {
   "cell_type": "code",
   "execution_count": 71,
   "metadata": {
    "collapsed": false,
    "scrolled": false
   },
   "outputs": [
    {
     "name": "stdout",
     "output_type": "stream",
     "text": [
      "ExtraTreesClassifier\n",
      "RandomizedSearchCV took 218.14 seconds for 100 candidates parameter settings.\n",
      "Model with rank: 1\n",
      "Mean validation score: 0.800 (std: 0.036)\n",
      "Parameters: {'max_features': 'log2', 'min_samples_split': 2, 'min_samples_leaf': 1, 'criterion': 'entropy', 'n_estimators': 683}\n",
      "\n",
      "Model with rank: 2\n",
      "Mean validation score: 0.791 (std: 0.074)\n",
      "Parameters: {'max_features': 'log2', 'min_samples_split': 5, 'min_samples_leaf': 1, 'criterion': 'entropy', 'n_estimators': 365}\n",
      "\n",
      "Model with rank: 3\n",
      "Mean validation score: 0.791 (std: 0.074)\n",
      "Parameters: {'max_features': 'log2', 'min_samples_split': 5, 'min_samples_leaf': 1, 'criterion': 'gini', 'n_estimators': 288}\n",
      "\n"
     ]
    }
   ],
   "source": [
    "print 'ExtraTreesClassifier'\n",
    "\n",
    "clf = ExtraTreesClassifier(n_jobs=-1, random_state=42)#, class_weight='balanced')\n",
    "# specify parameters and distributions to sample from\n",
    "param_dist = {'n_estimators': randint(25, 1000),\n",
    "              'min_samples_split': randint(2, 10),\n",
    "              'min_samples_leaf': randint(1, 10),\n",
    "              'criterion': ['entropy', 'gini'],\n",
    "              'max_features': ['sqrt', 'log2']}\n",
    "\n",
    "# run randomized search\n",
    "random_search_xt = RandomizedSearchCV(clf, param_distributions=param_dist,\n",
    "                                      n_iter=n_iter_search, scoring='accuracy',\n",
    "                                      n_jobs=4, cv=cv)\n",
    "\n",
    "start = time()\n",
    "random_search_xt.fit(X_train, Y_train)\n",
    "print('RandomizedSearchCV took %.2f seconds for %d candidates'\n",
    "      ' parameter settings.' % ((time() - start), n_iter_search))\n",
    "grid_search_report(random_search_xt.grid_scores_)\n"
   ]
  },
  {
   "cell_type": "markdown",
   "metadata": {},
   "source": [
    "## Cross-validate (best models, using all features)\n"
   ]
  },
  {
   "cell_type": "code",
   "execution_count": 52,
   "metadata": {
    "collapsed": true
   },
   "outputs": [],
   "source": [
    "def compute_error(clf, X, y, n_iter=20):\n",
    "  cv = cross_validation.ShuffleSplit(len(y), n_iter=n_iter, test_size=0.2, random_state=42)\n",
    "  return cross_validation.cross_val_score(clf, X, y, cv=cv, scoring='accuracy').mean()"
   ]
  },
  {
   "cell_type": "code",
   "execution_count": 86,
   "metadata": {
    "collapsed": false
   },
   "outputs": [
    {
     "data": {
      "image/png": "[encoded data removed]",
      "text/plain": [
       "<matplotlib.figure.Figure at 0x112881fd0>"
      ]
     },
     "metadata": {},
     "output_type": "display_data"
    }
   ],
   "source": [
    "# best gradient boosting classifier\n",
    "top_scores = sorted(random_search_gb.grid_scores_, key=itemgetter(1), reverse=True)\n",
    "clf_gb = GradientBoostingClassifier(random_state=42, **top_scores[0].parameters)\n",
    "\n",
    "# best random forest classifier\n",
    "top_scores = sorted(random_search_rf.grid_scores_, key=itemgetter(1), reverse=True)\n",
    "clf_rf = RandomForestClassifier(n_jobs=-1, random_state=42, **top_scores[0].parameters)\n",
    "\n",
    "# best extreme gradient boosting classifier\n",
    "top_scores = sorted(random_search_xgb.grid_scores_, key=itemgetter(1), reverse=True)\n",
    "clf_xgb = XGBClassifier(nthread=-1, seed=42, **top_scores[0].parameters)\n",
    "\n",
    "# best extra trees classifier\n",
    "top_scores = sorted(random_search_xt.grid_scores_, key=itemgetter(1), reverse=True)\n",
    "clf_xt = ExtraTreesClassifier(n_jobs=-1, random_state=42, **top_scores[0].parameters)\n",
    "\n",
    "# ensemble classifier\n",
    "clfs = [clf_gb, clf_rf, clf_xgb, clf_xt]\n",
    "eclf = EnsembleClassifier(clfs=clfs, voting='soft')\n",
    "\n",
    "model_performance = pd.DataFrame([\n",
    "    ('GB', compute_error(clf_gb, X_train, Y_train, n_iter=5)),\n",
    "    ('RF', compute_error(clf_rf, X_train, Y_train, n_iter=5)),\n",
    "    ('XGB', compute_error(clf_xgb, X_train, Y_train, n_iter=5)),\n",
    "    ('XT', compute_error(clf_xt, X_train, Y_train, n_iter=5)),\n",
    "    ('ENS', compute_error(eclf, X_train, Y_train, n_iter=5)),\n",
    "  ], columns=['classifier model', 'accuracy'])\n",
    "# model_performance.set_index('Model')\n",
    "model_performance.plot(x='classifier model', y='accuracy', kind='Bar')\n",
    "plt.ylabel('accuracy')\n",
    "\n",
    "plt.savefig('model_comparison.eps', format='eps', dpi=1000)"
   ]
  },
  {
   "cell_type": "markdown",
   "metadata": {},
   "source": [
    "## Individual model comparison (extra trees model)"
   ]
  },
  {
   "cell_type": "code",
   "execution_count": 65,
   "metadata": {
    "collapsed": true
   },
   "outputs": [],
   "source": [
    "hand_idx = [0, 3, 4, 5, 12, 13, 14, 21, 22, 23]\n",
    "chest_idx = [1, 6, 7, 8, 15, 16, 17, 24, 25, 26]\n",
    "ankle_idx = [2, 9, 10, 11, 18, 19, 20, 27, 28, 29]\n",
    "all_idx = [30, 31, 32, 33, 34, 35, 36, 37, 38, 39]"
   ]
  },
  {
   "cell_type": "code",
   "execution_count": 70,
   "metadata": {
    "collapsed": true
   },
   "outputs": [],
   "source": [
    "clf = ExtraTreesClassifier(n_jobs=-1, random_state=42)#, class_weight='balanced')\n",
    "# specify parameters and distributions to sample from\n",
    "param_dist = {'n_estimators': randint(25, 1000),\n",
    "              'min_samples_split': randint(2, 10),\n",
    "              'min_samples_leaf': randint(1, 10),\n",
    "              'criterion': ['entropy', 'gini'],\n",
    "              'max_features': ['sqrt', 'log2']}"
   ]
  },
  {
   "cell_type": "code",
   "execution_count": 66,
   "metadata": {
    "collapsed": false
   },
   "outputs": [
    {
     "name": "stdout",
     "output_type": "stream",
     "text": [
      "Hand only\n",
      "RandomizedSearchCV took 218.96 seconds for 100 candidates parameter settings.\n",
      "Model with rank: 1\n",
      "Mean validation score: 0.645 (std: 0.139)\n",
      "Parameters: {'max_features': 'log2', 'min_samples_split': 9, 'min_samples_leaf': 1, 'criterion': 'entropy', 'n_estimators': 535}\n",
      "\n",
      "Model with rank: 2\n",
      "Mean validation score: 0.645 (std: 0.101)\n",
      "Parameters: {'max_features': 'log2', 'min_samples_split': 5, 'min_samples_leaf': 1, 'criterion': 'gini', 'n_estimators': 357}\n",
      "\n",
      "Model with rank: 3\n",
      "Mean validation score: 0.636 (std: 0.129)\n",
      "Parameters: {'max_features': 'sqrt', 'min_samples_split': 9, 'min_samples_leaf': 1, 'criterion': 'entropy', 'n_estimators': 905}\n",
      "\n"
     ]
    }
   ],
   "source": [
    "print 'Hand sensors only'\n",
    "idx = hand_idx + all_idx\n",
    "\n",
    "# run randomized search\n",
    "random_search_hand = RandomizedSearchCV(clf, param_distributions=param_dist,\n",
    "                                        n_iter=n_iter_search, scoring='accuracy',\n",
    "                                        n_jobs=4, cv=cv)\n",
    "\n",
    "start = time()\n",
    "random_search_hand.fit(X_train[:, idx], Y_train)\n",
    "print('RandomizedSearchCV took %.2f seconds for %d candidates'\n",
    "      ' parameter settings.' % ((time() - start), n_iter_search))\n",
    "grid_search_report(random_search_hand.grid_scores_)"
   ]
  },
  {
   "cell_type": "code",
   "execution_count": 67,
   "metadata": {
    "collapsed": false
   },
   "outputs": [
    {
     "name": "stdout",
     "output_type": "stream",
     "text": [
      "Chest sensors only\n",
      "RandomizedSearchCV took 204.47 seconds for 100 candidates parameter settings.\n",
      "Model with rank: 1\n",
      "Mean validation score: 0.564 (std: 0.084)\n",
      "Parameters: {'max_features': 'sqrt', 'min_samples_split': 6, 'min_samples_leaf': 1, 'criterion': 'gini', 'n_estimators': 229}\n",
      "\n",
      "Model with rank: 2\n",
      "Mean validation score: 0.564 (std: 0.074)\n",
      "Parameters: {'max_features': 'log2', 'min_samples_split': 6, 'min_samples_leaf': 1, 'criterion': 'gini', 'n_estimators': 761}\n",
      "\n",
      "Model with rank: 3\n",
      "Mean validation score: 0.555 (std: 0.093)\n",
      "Parameters: {'max_features': 'log2', 'min_samples_split': 4, 'min_samples_leaf': 2, 'criterion': 'gini', 'n_estimators': 357}\n",
      "\n"
     ]
    }
   ],
   "source": [
    "print 'Chest sensors only'\n",
    "idx = chest_idx + all_idx\n",
    "\n",
    "# run randomized search\n",
    "random_search_chest = RandomizedSearchCV(clf, param_distributions=param_dist,\n",
    "                                        n_iter=n_iter_search, scoring='accuracy',\n",
    "                                        n_jobs=4, cv=cv)\n",
    "\n",
    "start = time()\n",
    "random_search_chest.fit(X_train[:, idx], Y_train)\n",
    "print('RandomizedSearchCV took %.2f seconds for %d candidates'\n",
    "      ' parameter settings.' % ((time() - start), n_iter_search))\n",
    "grid_search_report(random_search_chest.grid_scores_)"
   ]
  },
  {
   "cell_type": "code",
   "execution_count": 68,
   "metadata": {
    "collapsed": false
   },
   "outputs": [
    {
     "name": "stdout",
     "output_type": "stream",
     "text": [
      "Ankle sensors only\n",
      "RandomizedSearchCV took 233.24 seconds for 100 candidates parameter settings.\n",
      "Model with rank: 1\n",
      "Mean validation score: 0.564 (std: 0.062)\n",
      "Parameters: {'max_features': 'sqrt', 'min_samples_split': 6, 'min_samples_leaf': 1, 'criterion': 'gini', 'n_estimators': 804}\n",
      "\n",
      "Model with rank: 2\n",
      "Mean validation score: 0.564 (std: 0.062)\n",
      "Parameters: {'max_features': 'sqrt', 'min_samples_split': 6, 'min_samples_leaf': 1, 'criterion': 'gini', 'n_estimators': 473}\n",
      "\n",
      "Model with rank: 3\n",
      "Mean validation score: 0.555 (std: 0.073)\n",
      "Parameters: {'max_features': 'log2', 'min_samples_split': 8, 'min_samples_leaf': 1, 'criterion': 'gini', 'n_estimators': 435}\n",
      "\n"
     ]
    }
   ],
   "source": [
    "print 'Ankle sensors only'\n",
    "idx = ankle_idx + all_idx\n",
    "\n",
    "# run randomized search\n",
    "random_search_ankle = RandomizedSearchCV(clf, param_distributions=param_dist,\n",
    "                                        n_iter=n_iter_search, scoring='accuracy',\n",
    "                                        n_jobs=4, cv=cv)\n",
    "\n",
    "start = time()\n",
    "random_search_ankle.fit(X_train[:, idx], Y_train)\n",
    "print('RandomizedSearchCV took %.2f seconds for %d candidates'\n",
    "      ' parameter settings.' % ((time() - start), n_iter_search))\n",
    "grid_search_report(random_search_ankle.grid_scores_)"
   ]
  },
  {
   "cell_type": "code",
   "execution_count": 73,
   "metadata": {
    "collapsed": false
   },
   "outputs": [
    {
     "name": "stdout",
     "output_type": "stream",
     "text": [
      "Hand + ankle sensors\n",
      "RandomizedSearchCV took 206.30 seconds for 100 candidates parameter settings.\n",
      "Model with rank: 1\n",
      "Mean validation score: 0.845 (std: 0.062)\n",
      "Parameters: {'max_features': 'sqrt', 'min_samples_split': 4, 'min_samples_leaf': 1, 'criterion': 'entropy', 'n_estimators': 925}\n",
      "\n",
      "Model with rank: 2\n",
      "Mean validation score: 0.836 (std: 0.074)\n",
      "Parameters: {'max_features': 'sqrt', 'min_samples_split': 5, 'min_samples_leaf': 1, 'criterion': 'entropy', 'n_estimators': 485}\n",
      "\n",
      "Model with rank: 3\n",
      "Mean validation score: 0.836 (std: 0.089)\n",
      "Parameters: {'max_features': 'log2', 'min_samples_split': 2, 'min_samples_leaf': 1, 'criterion': 'gini', 'n_estimators': 810}\n",
      "\n"
     ]
    }
   ],
   "source": [
    "print 'Hand + ankle sensors'\n",
    "idx = hand_idx + ankle_idx + all_idx\n",
    "\n",
    "# run randomized search\n",
    "random_search_hand_ankle = RandomizedSearchCV(clf, param_distributions=param_dist,\n",
    "                                        n_iter=n_iter_search, scoring='accuracy',\n",
    "                                        n_jobs=4, cv=cv)\n",
    "\n",
    "start = time()\n",
    "random_search_hand_ankle.fit(X_train[:, idx], Y_train)\n",
    "print('RandomizedSearchCV took %.2f seconds for %d candidates'\n",
    "      ' parameter settings.' % ((time() - start), n_iter_search))\n",
    "grid_search_report(random_search_hand_ankle.grid_scores_)"
   ]
  },
  {
   "cell_type": "code",
   "execution_count": 74,
   "metadata": {
    "collapsed": false
   },
   "outputs": [
    {
     "name": "stdout",
     "output_type": "stream",
     "text": [
      "Hand + chest sensors\n",
      "RandomizedSearchCV took 224.50 seconds for 100 candidates parameter settings.\n",
      "Model with rank: 1\n",
      "Mean validation score: 0.791 (std: 0.094)\n",
      "Parameters: {'max_features': 'sqrt', 'min_samples_split': 2, 'min_samples_leaf': 1, 'criterion': 'gini', 'n_estimators': 803}\n",
      "\n",
      "Model with rank: 2\n",
      "Mean validation score: 0.791 (std: 0.055)\n",
      "Parameters: {'max_features': 'log2', 'min_samples_split': 3, 'min_samples_leaf': 1, 'criterion': 'gini', 'n_estimators': 899}\n",
      "\n",
      "Model with rank: 3\n",
      "Mean validation score: 0.782 (std: 0.078)\n",
      "Parameters: {'max_features': 'log2', 'min_samples_split': 6, 'min_samples_leaf': 1, 'criterion': 'entropy', 'n_estimators': 193}\n",
      "\n"
     ]
    }
   ],
   "source": [
    "print 'Hand + chest sensors'\n",
    "idx = hand_idx + chest_idx + all_idx\n",
    "\n",
    "# run randomized search\n",
    "random_search_hand_chest = RandomizedSearchCV(clf, param_distributions=param_dist,\n",
    "                                        n_iter=n_iter_search, scoring='accuracy',\n",
    "                                        n_jobs=4, cv=cv)\n",
    "\n",
    "start = time()\n",
    "random_search_hand_chest.fit(X_train[:, idx], Y_train)\n",
    "print('RandomizedSearchCV took %.2f seconds for %d candidates'\n",
    "      ' parameter settings.' % ((time() - start), n_iter_search))\n",
    "grid_search_report(random_search_hand_chest.grid_scores_)"
   ]
  },
  {
   "cell_type": "code",
   "execution_count": 75,
   "metadata": {
    "collapsed": false
   },
   "outputs": [
    {
     "name": "stdout",
     "output_type": "stream",
     "text": [
      "Chest + ankle sensors\n",
      "RandomizedSearchCV took 232.38 seconds for 100 candidates parameter settings.\n",
      "Model with rank: 1\n",
      "Mean validation score: 0.655 (std: 0.036)\n",
      "Parameters: {'max_features': 'sqrt', 'min_samples_split': 9, 'min_samples_leaf': 1, 'criterion': 'gini', 'n_estimators': 569}\n",
      "\n",
      "Model with rank: 2\n",
      "Mean validation score: 0.645 (std: 0.034)\n",
      "Parameters: {'max_features': 'sqrt', 'min_samples_split': 8, 'min_samples_leaf': 1, 'criterion': 'gini', 'n_estimators': 835}\n",
      "\n",
      "Model with rank: 3\n",
      "Mean validation score: 0.627 (std: 0.053)\n",
      "Parameters: {'max_features': 'sqrt', 'min_samples_split': 4, 'min_samples_leaf': 2, 'criterion': 'entropy', 'n_estimators': 856}\n",
      "\n"
     ]
    }
   ],
   "source": [
    "print 'Chest + ankle sensors'\n",
    "idx = chest_idx + ankle_idx + all_idx\n",
    "\n",
    "# run randomized search\n",
    "random_search_chest_ankle = RandomizedSearchCV(clf, param_distributions=param_dist,\n",
    "                                        n_iter=n_iter_search, scoring='accuracy',\n",
    "                                        n_jobs=4, cv=cv)\n",
    "\n",
    "start = time()\n",
    "random_search_chest_ankle.fit(X_train[:, idx], Y_train)\n",
    "print('RandomizedSearchCV took %.2f seconds for %d candidates'\n",
    "      ' parameter settings.' % ((time() - start), n_iter_search))\n",
    "grid_search_report(random_search_chest_ankle.grid_scores_)"
   ]
  },
  {
   "cell_type": "code",
   "execution_count": 87,
   "metadata": {
    "collapsed": false
   },
   "outputs": [
    {
     "data": {
      "image/png": "[encoded data removed]",
      "text/plain": [
       "<matplotlib.figure.Figure at 0x113190ed0>"
      ]
     },
     "metadata": {},
     "output_type": "display_data"
    }
   ],
   "source": [
    "# chest only\n",
    "top_scores = sorted(random_search_chest.grid_scores_, key=itemgetter(1), reverse=True)\n",
    "clf_chest = ExtraTreesClassifier(n_jobs=-1, random_state=42, **top_scores[0].parameters)\n",
    "\n",
    "# ankle only\n",
    "top_scores = sorted(random_search_ankle.grid_scores_, key=itemgetter(1), reverse=True)\n",
    "clf_ankle = ExtraTreesClassifier(n_jobs=-1, random_state=42, **top_scores[0].parameters)\n",
    "\n",
    "# chest + ankle\n",
    "top_scores = sorted(random_search_chest_ankle.grid_scores_, key=itemgetter(1), reverse=True)\n",
    "clf_chest_ankle = ExtraTreesClassifier(n_jobs=-1, random_state=42, **top_scores[0].parameters)\n",
    "\n",
    "# hand only\n",
    "top_scores = sorted(random_search_hand.grid_scores_, key=itemgetter(1), reverse=True)\n",
    "clf_hand = ExtraTreesClassifier(n_jobs=-1, random_state=42, **top_scores[0].parameters)\n",
    "\n",
    "# hand + chest\n",
    "top_scores = sorted(random_search_hand_chest.grid_scores_, key=itemgetter(1), reverse=True)\n",
    "clf_hand_chest = ExtraTreesClassifier(n_jobs=-1, random_state=42, **top_scores[0].parameters)\n",
    "\n",
    "# all features\n",
    "top_scores = sorted(random_search_xt.grid_scores_, key=itemgetter(1), reverse=True)\n",
    "clf_xt = ExtraTreesClassifier(n_jobs=-1, random_state=42, **top_scores[0].parameters)\n",
    "\n",
    "# hand + ankle\n",
    "top_scores = sorted(random_search_hand_ankle.grid_scores_, key=itemgetter(1), reverse=True)\n",
    "clf_hand_ankle = ExtraTreesClassifier(n_jobs=-1, random_state=42, **top_scores[0].parameters)\n",
    "\n",
    "model_performance = pd.DataFrame([\n",
    "    ('chest', compute_error(clf_chest, X_train[:, chest_idx + all_idx], Y_train, n_iter=5)),\n",
    "    ('ankle', compute_error(clf_ankle, X_train[:, ankle_idx + all_idx], Y_train, n_iter=5)),\n",
    "    ('c+a', compute_error(clf_chest_ankle, X_train[:, ankle_idx + chest_idx + all_idx], Y_train, n_iter=5)),\n",
    "    ('hand', compute_error(clf_hand, X_train[:, hand_idx + all_idx], Y_train, n_iter=5)),\n",
    "    ('h+c', compute_error(clf_hand_chest, X_train[:, hand_idx + chest_idx + all_idx], Y_train, n_iter=5)),\n",
    "    ('all', compute_error(clf_xt, X_train, Y_train, n_iter=5)),\n",
    "    ('h+a', compute_error(clf_hand_ankle, X_train[:, hand_idx + ankle_idx + all_idx], Y_train, n_iter=5)),\n",
    "  ], columns=['sensor location', 'accuracy'])\n",
    "# model_performance.set_index('Location')\n",
    "model_performance.plot(x='sensor location', y='accuracy', kind='Bar')\n",
    "plt.ylabel('accuracy')\n",
    "\n",
    "plt.savefig('location_comparison.eps', format='eps', dpi=1000)"
   ]
  },
  {
   "cell_type": "code",
   "execution_count": null,
   "metadata": {
    "collapsed": true
   },
   "outputs": [],
   "source": []
  }
 ],
 "metadata": {
  "kernelspec": {
   "display_name": "Python 2",
   "language": "python",
   "name": "python2"
  },
  "language_info": {
   "codemirror_mode": {
    "name": "ipython",
    "version": 2
   },
   "file_extension": ".py",
   "mimetype": "text/x-python",
   "name": "python",
   "nbconvert_exporter": "python",
   "pygments_lexer": "ipython2",
   "version": "2.7.10"
  }
 },
 "nbformat": 4,
 "nbformat_minor": 0
}
